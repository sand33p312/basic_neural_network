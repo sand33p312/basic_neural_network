{
 "cells": [
  {
   "cell_type": "code",
   "execution_count": 1,
   "id": "7afc7354-c29c-4cf6-a215-e213c988d568",
   "metadata": {},
   "outputs": [
    {
     "name": "stdout",
     "output_type": "stream",
     "text": [
      "Epoch [1/5], Loss: 0.3412\n",
      "Epoch [2/5], Loss: 0.1619\n",
      "Epoch [3/5], Loss: 0.2106\n",
      "Epoch [4/5], Loss: 0.0440\n",
      "Epoch [5/5], Loss: 0.0217\n",
      "Accuracy: 96.95%\n"
     ]
    }
   ],
   "source": [
    "import torch\n",
    "import torch.nn as nn\n",
    "import torch.optim as optim\n",
    "from torchvision import datasets, transforms\n",
    "from torch.utils.data import DataLoader\n",
    "\n",
    "# Step 1: Define data preprocessing and load dataset (MNIST)\n",
    "transform = transforms.Compose([transforms.ToTensor(), transforms.Normalize((0.5,), (0.5,))])\n",
    "\n",
    "train_dataset = datasets.MNIST(root='./data', train=True, transform=transform, download=True)\n",
    "test_dataset = datasets.MNIST(root='./data', train=False, transform=transform, download=True)\n",
    "\n",
    "train_loader = DataLoader(dataset=train_dataset, batch_size=64, shuffle=True)\n",
    "test_loader = DataLoader(dataset=test_dataset, batch_size=64, shuffle=False)\n",
    "\n",
    "# Step 2: Define the neural network model\n",
    "class NeuralNet(nn.Module):\n",
    "    def __init__(self):\n",
    "        super(NeuralNet, self).__init__()\n",
    "        self.fc1 = nn.Linear(28*28, 128)  # Input layer (28x28 image size flattened)\n",
    "        self.fc2 = nn.Linear(128, 64)     # Hidden layer\n",
    "        self.fc3 = nn.Linear(64, 10)      # Output layer (10 classes for digits 0-9)\n",
    "    \n",
    "    def forward(self, x):\n",
    "        x = x.view(-1, 28*28)  # Flatten the input\n",
    "        x = torch.relu(self.fc1(x))  # Apply ReLU to hidden layers\n",
    "        x = torch.relu(self.fc2(x))\n",
    "        x = self.fc3(x)  # Output raw scores (logits)\n",
    "        return x\n",
    "\n",
    "# Step 3: Initialize model, define loss function and optimizer\n",
    "model = NeuralNet()\n",
    "criterion = nn.CrossEntropyLoss()  # Loss for classification\n",
    "optimizer = optim.Adam(model.parameters(), lr=0.001)\n",
    "\n",
    "# Step 4: Training the model\n",
    "for epoch in range(5):  # Train for 5 epochs\n",
    "    for images, labels in train_loader:\n",
    "        outputs = model(images)  # Forward pass\n",
    "        loss = criterion(outputs, labels)  # Compute loss\n",
    "        \n",
    "        optimizer.zero_grad()  # Zero the gradients\n",
    "        loss.backward()  # Backward pass (compute gradients)\n",
    "        optimizer.step()  # Update weights\n",
    "\n",
    "    print(f'Epoch [{epoch+1}/5], Loss: {loss.item():.4f}')\n",
    "\n",
    "# Step 5: Testing the model\n",
    "correct = 0\n",
    "total = 0\n",
    "with torch.no_grad():  # Disable gradient computation for testing\n",
    "    for images, labels in test_loader:\n",
    "        outputs = model(images)\n",
    "        _, predicted = torch.max(outputs.data, 1)\n",
    "        total += labels.size(0)\n",
    "        correct += (predicted == labels).sum().item()\n",
    "\n",
    "print(f'Accuracy: {100 * correct / total:.2f}%')\n"
   ]
  },
  {
   "cell_type": "code",
   "execution_count": 2,
   "id": "53e6e6ca-8e9b-4e6d-89f9-a60113619caf",
   "metadata": {},
   "outputs": [],
   "source": [
    "# import pandas as pd\n",
    "\n",
    "# # Assuming `df` is your DataFrame with time series data\n",
    "# df['column_with_missing_values'].interpolate(method='linear', inplace=True)\n"
   ]
  },
  {
   "cell_type": "code",
   "execution_count": 3,
   "id": "c637e124-8e0d-44c0-a92e-f5bc16ad47bf",
   "metadata": {},
   "outputs": [],
   "source": [
    "# # Forward fill: propagates the last known value forward\n",
    "# df['column_with_missing_values'].fillna(method='ffill', inplace=True) \n",
    "\n",
    "# # Backward fill: propagates the next known value backward\n",
    "# df['column_with_missing_values'].fillna(method='bfill', inplace=True)\n"
   ]
  },
  {
   "cell_type": "code",
   "execution_count": 4,
   "id": "50f44a3a-a7bf-4b58-8077-20f4c6804186",
   "metadata": {},
   "outputs": [],
   "source": [
    "# # Merge train_data with stores_data\n",
    "# train_data = pd.merge(train_data, stores_data, on='store_nbr', how='left')\n"
   ]
  },
  {
   "cell_type": "code",
   "execution_count": 5,
   "id": "7bee7120-08fe-4145-b1d4-cc67efeaaa55",
   "metadata": {},
   "outputs": [],
   "source": [
    "# train_data = pd.get_dummies(train_data, columns=['family', 'city', 'state', 'type', 'locale_name', 'description'], drop_first=True)"
   ]
  },
  {
   "cell_type": "code",
   "execution_count": 6,
   "id": "f85dbf3a-7de7-4b30-a715-8bff57b32aee",
   "metadata": {},
   "outputs": [],
   "source": [
    "# def __len__(self):\n",
    "#         return len(self.y)\n",
    "\n",
    "#     def _get_item(self,i):\n",
    "#         return self.X[i],self.y[i]"
   ]
  }
 ],
 "metadata": {
  "kernelspec": {
   "display_name": "Python 3 (ipykernel)",
   "language": "python",
   "name": "python3"
  },
  "language_info": {
   "codemirror_mode": {
    "name": "ipython",
    "version": 3
   },
   "file_extension": ".py",
   "mimetype": "text/x-python",
   "name": "python",
   "nbconvert_exporter": "python",
   "pygments_lexer": "ipython3",
   "version": "3.12.2"
  }
 },
 "nbformat": 4,
 "nbformat_minor": 5
}
